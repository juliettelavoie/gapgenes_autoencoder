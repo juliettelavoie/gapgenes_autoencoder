{
 "cells": [
  {
   "cell_type": "markdown",
   "metadata": {},
   "source": [
    "# Train autoencoder"
   ]
  },
  {
   "cell_type": "code",
   "execution_count": null,
   "metadata": {},
   "outputs": [],
   "source": [
    "from tensorflow import keras\n",
    "import tensorflow as tf\n",
    "from matplotlib import pyplot as plt\n",
    "import numpy as np\n",
    "%matplotlib inline\n",
    "from tensorflow.keras.layers import Input,Dense\n",
    "from tensorflow.keras import optimizers\n",
    "from neuralgregnet import tools\n",
    "from neuralgregnet.training import training\n",
    "from neuralgregnet.training import load_model\n",
    "cmap = plt.get_cmap(\"Paired\")\n",
    "from tensorflow.keras import backend as K\n",
    "import plotly.graph_objs as go\n",
    "import plotly.offline as py\n",
    "import commonFunctions as cf"
   ]
  },
  {
   "cell_type": "code",
   "execution_count": null,
   "metadata": {},
   "outputs": [],
   "source": [
    "#load data\n",
    "genes=['Gt', 'Kni', 'Kr', 'Hb']\n",
    "cutNaN=35 # to avoid all the nan values\n",
    "offNaN=965\n",
    "positions=np.linspace(0,100,1000)\n",
    "positions=positions[cutNaN:offNaN]\n",
    "#load data\n",
    "SortData,sortAge=cf.loadGG(f=\"gap_data_raw_dorsal_wt_time_series.mat\",path=\"DataPetkova/Data/Gap/\",\n",
    "                positions=positions,ageSort=False, cutPos=False)\n",
    "#plot a random embryo\n",
    "for i,g in enumerate(genes):\n",
    "    plt.plot(positions[:], SortData[1,i,:].T,color=cmap(i/4), label=g)\n",
    "plt.xlabel(\"Positions (% of AP axis)\")\n",
    "plt.ylabel(\"Concentration\")\n",
    "plt.legend()\n"
   ]
  },
  {
   "cell_type": "code",
   "execution_count": null,
   "metadata": {},
   "outputs": [],
   "source": [
    "nb_epochs=1\n",
    "batch_size=64\n",
    "#build architecture 4,2,4\n",
    "layers = [keras.layers.Flatten(input_shape=(4,))]\n",
    "layers += [keras.layers.Dense(2,activation=\"sigmoid\")]\n",
    "layers += [keras.layers.Dense(4,activation=\"sigmoid\")]\n",
    "autoMut = keras.Sequential(layers)\n",
    "autoMut.compile(optimizer=optimizers.Adam(lr=0.01),loss=\"mse\")\n",
    "\n",
    "#separate train and test data\n",
    "np.random.shuffle(SortData)\n",
    "datMTest =SortData[:int(SortData.shape[0]*0.2),:,:]\n",
    "datMTr = SortData[int(SortData.shape[0]*0.2):,:,:]\n",
    "train_data = np.swapaxes(datMTr,1,2)\n",
    "shape = train_data.shape\n",
    "train_data = train_data.reshape(shape[0]*shape[1],shape[2])\n",
    "np.random.shuffle(train_data)\n",
    "print(train_data.shape)\n",
    "    \n",
    "#train network    \n",
    "aeM= training(autoMut,train_data, train_data,model_name=\"newWTtest\",clear=True,nb_epochs=nb_epochs,learning_rate=0.01,batch_size=batch_size,loss=\"mse\")\n",
    "    \n",
    "epochsR = range(nb_epochs)\n",
    "loss = aeM.history.history['loss']\n",
    "plt.figure()\n",
    "plt.plot(epochsR[0:], loss[0:], 'bo', label='Training loss')\n",
    "plt.title('Training and validation loss')\n",
    "plt.legend()"
   ]
  },
  {
   "cell_type": "code",
   "execution_count": null,
   "metadata": {},
   "outputs": [],
   "source": [
    "#visualize autoencoder and prediction\n",
    "index = 15 # for time point 0\n",
    "prediction = aeM.predict(datMTest[index].T)\n",
    "plt.figure()\n",
    "for i,g in enumerate(genes):\n",
    "    plt.plot(positions,datMTest[index][i],color=cmap(i/4), label=g)\n",
    "    plt.plot(positions,prediction[:,i],color=cmap(i/4), linestyle=\"--\", label=\"pred\"+g)\n",
    "\n",
    "plt.legend()\n",
    "plt.xlabel(\"Position (% of AP axis)\",fontsize=15)\n",
    "plt.ylabel(\"Concentration (au)\",fontsize=15)\n",
    "\n",
    "test_data = np.swapaxes(datMTest,1,2)\n",
    "shape = test_data.shape\n",
    "test_data = test_data.reshape(shape[0]*shape[1],shape[2])\n",
    "eva=aeM.evaluate( x=test_data, y=test_data, verbose=1)\n",
    "print(\"mse:%f\"%eva)\n",
    "\n",
    "inp=datMTest[13,:,371].reshape((1,4))\n",
    "data,layout = tools.plot_model(aeM, inp)\n",
    "fig = go.Figure(data=data,layout=layout)\n",
    "\n",
    "py.iplot(fig)"
   ]
  },
  {
   "cell_type": "code",
   "execution_count": null,
   "metadata": {},
   "outputs": [],
   "source": []
  }
 ],
 "metadata": {
  "kernelspec": {
   "display_name": "Python (biophys)",
   "language": "python",
   "name": "biophys"
  },
  "language_info": {
   "codemirror_mode": {
    "name": "ipython",
    "version": 3
   },
   "file_extension": ".py",
   "mimetype": "text/x-python",
   "name": "python",
   "nbconvert_exporter": "python",
   "pygments_lexer": "ipython3",
   "version": "3.6.5"
  }
 },
 "nbformat": 4,
 "nbformat_minor": 2
}
