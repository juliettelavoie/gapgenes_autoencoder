{
 "cells": [
  {
   "cell_type": "markdown",
   "metadata": {},
   "source": [
    "# find position of eve stripes"
   ]
  },
  {
   "cell_type": "code",
   "execution_count": null,
   "metadata": {},
   "outputs": [],
   "source": [
    "from matplotlib import pyplot as plt\n",
    "import numpy as np\n",
    "%matplotlib inline\n",
    "import scipy.io\n",
    "from scipy.signal import find_peaks\n",
    "import matplotlib.animation as animation\n",
    "import commonFunctions as cf"
   ]
  },
  {
   "cell_type": "code",
   "execution_count": null,
   "metadata": {},
   "outputs": [],
   "source": [
    "#load pair-rule data\n",
    "cutNaN=35 # to have same size as gap\n",
    "offNaN=965\n",
    "positions=np.linspace(0,100,1000)\n",
    "positions=positions[cutNaN:offNaN]\n",
    "#load mutant or wt file\n",
    "mat=scipy.io.loadmat(\"DataPetkova/Data/Pair_rule/pair_rule_data_raw_dorsal_wt_time_series.mat\",squeeze_me=True)\n",
    "#extract info\n",
    "eveData=[]\n",
    "eveAge=[]\n",
    "for i in range(mat['data'].shape[0]):\n",
    "    if mat['data'][i]['orient']==1:#Dubuis et.al (2014) use asymmetrically oriented embryos.\n",
    "        Age=mat['data'][i]['age']\n",
    "        tmpEve=mat['data'][i]['Eve']\n",
    "        #tmpEve=mat['data'][i]['Run']\n",
    "        eveData.append(tmpEve)\n",
    "        eveAge.append(mat['data'][i]['age'])\n",
    "    \n",
    "\n",
    "eveData=np.array(eveData)\n",
    "eveData=eveData[:,cutNaN:offNaN]\n",
    "#normalize\n",
    "eveData = (eveData.T-np.nanmin(eveData,axis=1)).T\n",
    "eveData /= np.nanmax(eveData) # new norm by adrien to have min at 0\n",
    "        \n",
    "print(eveData.shape)\n",
    "plt.plot(positions,eveData[10])\n",
    "\n",
    "#sort age\n",
    "noSortAgeEve=eveAge.copy()\n",
    "sortAgeEve=eveAge\n",
    "sortAgeEve=sorted(sortAgeEve)\n",
    "\n",
    "#sort data\n",
    "data=eveData\n",
    "SortDataEve=[]\n",
    "for a in sortAgeEve:\n",
    "    for i in range(len(noSortAgeEve)):     \n",
    "        if a==noSortAgeEve[i]:\n",
    "            SortDataEve.append(data[i])\n",
    "            noSortAgeEve[i]=None\n",
    "                   \n",
    "SortDataEve=np.array(SortDataEve)\n",
    "\n",
    "\n",
    "age1=cf.find_nearest(sortAgeEve,44)#45)\n",
    "age2=cf.find_nearest(sortAgeEve,52)#55)\n",
    "SortDataEve=SortDataEve[age1:age2,:]\n",
    "sortAgeEve=sortAgeEve[age1:age2]\n",
    "print(SortDataEve.shape, sortAgeEve[-1])\n"
   ]
  },
  {
   "cell_type": "code",
   "execution_count": null,
   "metadata": {},
   "outputs": [],
   "source": [
    "#find peaks of each embryos and average them\n",
    "length=SortDataEve.shape[0]\n",
    "nbPeaks=7\n",
    "maxs=np.full((length,nbPeaks),np.nan)\n",
    "for f in range(length):\n",
    "    plt.figure()\n",
    "    plt.plot(positions,SortDataEve[f])\n",
    "    plt.title(f)\n",
    "    #find peaks\n",
    "    #loc,_=find_peaks(SortDataEve[f],height=0.2,distance=45)#0.2, 45\n",
    "    loc,_=find_peaks(SortDataEve[f],height=0.08,distance=45)\n",
    "    #while len(loc)>6:\n",
    "        #loc=np.delete(loc,6)\n",
    "    #plot and save result    \n",
    "    for l in loc:\n",
    "        plt.axvline(positions[l])\n",
    "    if len(loc)==nbPeaks:\n",
    "        maxs[f]=[positions[l] for l in loc]\n",
    "#average\n",
    "evePub=np.nanmean(maxs, axis=0)\n",
    "print(evePub)"
   ]
  },
  {
   "cell_type": "code",
   "execution_count": null,
   "metadata": {},
   "outputs": [],
   "source": [
    "#animation of eve stripes\n",
    "%matplotlib inline\n",
    "\n",
    "fig = plt.figure()\n",
    "ax = plt.axes(xlim=(0, 100), ylim=(0, 1))\n",
    "line, = ax.plot([], [], lw=2)\n",
    "time_text = ax.text(0.02, 0.95, '', transform=ax.transAxes)\n",
    "lines = []\n",
    "for index in range(1):\n",
    "    lobj = ax.plot([],[],lw=2)[0]\n",
    "    lines.append(lobj)\n",
    "def init():\n",
    "    for line in lines:\n",
    "        line.set_data([],[])\n",
    "    time_text.set_text('')\n",
    "    return lines\n",
    "\n",
    "def animate(i):\n",
    "    time_text.set_text('age = %.1f' %(sortAgeEve[i] ))\n",
    "    for lnum,line in enumerate(lines):\n",
    "        line.set_data(positions, SortDataEve[i])\n",
    "\n",
    "    return lines\n",
    "\n",
    "anim = animation.FuncAnimation(fig, animate, init_func=init,\n",
    "                               frames=SortDataEve.shape[0], interval=200, blit=True)\n",
    "\n",
    "#plt.legend(loc=\"upper right\")\n",
    "#plt.show()\n",
    "Writer = animation.writers['ffmpeg']\n",
    "writer = Writer(fps=15, metadata=dict(artist='Me'), bitrate=1800)\n",
    "anim.save('movies/eveTemp.mp4', writer=writer)"
   ]
  },
  {
   "cell_type": "markdown",
   "metadata": {},
   "source": [
    "# Pair-rule on manifold"
   ]
  },
  {
   "cell_type": "code",
   "execution_count": null,
   "metadata": {},
   "outputs": [],
   "source": [
    "eve=[35.18518519, 43.55855856, 50.67567568, 56.43643644, 62.46246246, 67.93793794,75.8958959 ]\n",
    "prd=[11.13113113, 33.58024691 ,41.3680347 , 47.94794795 ,53.82716049, 59.25258592,65.15849183, 71.43810477]\n",
    "run=[36.88303688, 45.48394548, 52.12135212, 57.51905752, 63.68676369, 70.00077,79.34087934]"
   ]
  },
  {
   "cell_type": "code",
   "execution_count": null,
   "metadata": {},
   "outputs": [],
   "source": [
    "genes=['Gt', 'Kni', 'Kr', 'Hb']\n",
    "cutNaN=35 # to avoid all the nan values\n",
    "offNaN=965\n",
    "positions=np.linspace(0,100,1000)\n",
    "positions=positions[cutNaN:offNaN]\n",
    "#load data\n",
    "SortData,sortAge=cf.loadGG(f=\"gap_data_raw_dorsal_wt.mat\",path=\"DataPetkova/Data/Gap/\",\n",
    "                positions=positions,ageSort=True, age1=40,age2=44,cutPos=False)\n",
    "h1s,h2s,avg1,avg2=cf.makeManifold(SortData,linear=True)"
   ]
  },
  {
   "cell_type": "code",
   "execution_count": null,
   "metadata": {},
   "outputs": [],
   "source": [
    "plt.figure(figsize=(5,5))\n",
    "from collections import OrderedDict\n",
    "import matplotlib.pyplot as plt\n",
    "\n",
    "plt.plot(avg1,avg2)\n",
    "for p in eve:\n",
    "    index=cf.find_nearest(positions,p)\n",
    "    plt.plot(avg1[index],avg2[index],'.',label=\"Eve\", color=\"purple\", markersize=10)\n",
    "for p in run:\n",
    "    index=cf.find_nearest(positions,p)\n",
    "    plt.plot(avg1[index],avg2[index],'.',label=\"Run\", color=\"red\", markersize=10)\n",
    "for p in prd:\n",
    "    index=cf.find_nearest(positions,p)\n",
    "    plt.plot(avg1[index],avg2[index],'.',label=\"Prd\", color=\"orange\", markersize=10)\n",
    "    \n",
    "\n",
    "handles, labels = plt.gca().get_legend_handles_labels()\n",
    "by_label = OrderedDict(zip(labels, handles))\n",
    "plt.legend(by_label.values(), by_label.keys())\n",
    "plt.xlabel(r'$h_1$')\n",
    "plt.ylabel(r'$h_2$')\n",
    "plt.title(\"Pair-rule genes on linear manifold\")"
   ]
  },
  {
   "cell_type": "code",
   "execution_count": null,
   "metadata": {},
   "outputs": [],
   "source": []
  }
 ],
 "metadata": {
  "kernelspec": {
   "display_name": "Python (bio)",
   "language": "python",
   "name": "bio"
  },
  "language_info": {
   "codemirror_mode": {
    "name": "ipython",
    "version": 3
   },
   "file_extension": ".py",
   "mimetype": "text/x-python",
   "name": "python",
   "nbconvert_exporter": "python",
   "pygments_lexer": "ipython3",
   "version": "3.6.5"
  }
 },
 "nbformat": 4,
 "nbformat_minor": 2
}
