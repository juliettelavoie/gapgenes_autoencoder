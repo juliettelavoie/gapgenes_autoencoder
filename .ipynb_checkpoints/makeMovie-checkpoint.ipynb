{
 "cells": [
  {
   "cell_type": "markdown",
   "metadata": {},
   "source": [
    "# make movie of gg and manifold"
   ]
  },
  {
   "cell_type": "code",
   "execution_count": 1,
   "metadata": {},
   "outputs": [],
   "source": [
    "%matplotlib inline\n",
    "import numpy as np\n",
    "import matplotlib.pyplot  as plt\n",
    "from neuralgregnet.training import load_model\n",
    "cmap = plt.get_cmap(\"Paired\")\n",
    "from tensorflow.keras import optimizers\n",
    "from matplotlib import animation\n",
    "import commonFunctions as cf"
   ]
  },
  {
   "cell_type": "code",
   "execution_count": null,
   "metadata": {},
   "outputs": [
    {
     "name": "stdout",
     "output_type": "stream",
     "text": [
      "(291, 4, 930)\n"
     ]
    }
   ],
   "source": [
    "genes=['Gt', 'Kni', 'Kr', 'Hb']\n",
    "cutNaN=35 # to avoid all the nan values\n",
    "offNaN=965\n",
    "positions=np.linspace(0,100,1000)\n",
    "positions=positions[cutNaN:offNaN]\n",
    "#load data\n",
    "cut=cf.find_nearest(positions,10)\n",
    "off=cf.find_nearest(positions,90)\n",
    "SortData,sortAge=cf.loadGG(f=\"gap_data_raw_dorsal_wt_time_series.mat\",path=\"DataPetkova/Data/Gap/\",\n",
    "                positions=positions,ageSort=True, age1=0,age2=100,cutPos=False,cut=cut, off=off,smooth=True)\n",
    "#plot\n",
    "for i,g in enumerate(genes):\n",
    "    plt.plot(positions[:], SortData[1,i,:].T,color=cmap(i/4), label=g)\n",
    "plt.xlabel(\"Positions (% of AP axis)\")\n",
    "plt.ylabel(\"Concentration\")\n",
    "plt.legend()\n",
    "\n",
    "#load autoencoder\n",
    "aeM= load_model(\"networks/newWT2\")\n",
    "aeM.compile(optimizer=optimizers.Adam(lr=0.01),loss=\"mse\")"
   ]
  },
  {
   "cell_type": "code",
   "execution_count": null,
   "metadata": {},
   "outputs": [],
   "source": [
    "#animation gene expressions\n",
    "\n",
    "\n",
    "fig = plt.figure()\n",
    "ax = plt.axes(xlim=(10, 90), ylim=(0, 1))\n",
    "line, = ax.plot([], [], lw=2)\n",
    "time_text = ax.text(0.02, 0.95, '', transform=ax.transAxes)\n",
    "plt.xlabel(\"Positions (% of AP axis)\")\n",
    "plt.ylabel(\"Concentration\")\n",
    "plt.title(\" Gap Gene wild type data\")\n",
    "lines = []\n",
    "for index in range(4):\n",
    "    lobj = ax.plot([],[],lw=2,color=cmap(index/4), label=genes[index])[0]\n",
    "    lines.append(lobj)\n",
    "def init():\n",
    "    for line in lines:\n",
    "        line.set_data([],[])\n",
    "    time_text.set_text('')\n",
    "    return lines\n",
    "\n",
    "def animate(i):\n",
    "    time_text.set_text('age = %.1f min' %(sortAge[i] ))\n",
    "    for lnum,line in enumerate(lines):\n",
    "        line.set_data(positions[cut:off], SortData[i,lnum,:])\n",
    "\n",
    "    return lines\n",
    "\n",
    "anim = animation.FuncAnimation(fig, animate, init_func=init,\n",
    "                               frames=SortData.shape[0], interval=200, blit=True)\n",
    "\n",
    "plt.legend(loc=\"upper right\")\n",
    "plt.show()\n",
    "Writer = animation.writers['ffmpeg']\n",
    "writer = Writer(fps=30, metadata=dict(artist='Me'), bitrate=1800)\n",
    "anim.save('movies/wttemp.mp4', writer=writer)"
   ]
  },
  {
   "cell_type": "code",
   "execution_count": null,
   "metadata": {},
   "outputs": [],
   "source": [
    "cut=cf.find_nearest(positions,10)\n",
    "off=cf.find_nearest(positions,90)\n",
    "h1s,h2s,avg1,avg2=cf.makeManifold(SortData,cut=cut,off=off,linear=False,aeM=aeM)"
   ]
  },
  {
   "cell_type": "code",
   "execution_count": null,
   "metadata": {},
   "outputs": [],
   "source": [
    "#animation gene expressions\n",
    "\n",
    "\n",
    "fig = plt.figure(figsize=(5,5))\n",
    "\n",
    "#ax = plt.axes(xlim=(-0.8,0.8), ylim=(-0.8,0.8)) #linear\n",
    "ax = plt.axes(xlim=(0,1), ylim=(0,1))# autoencoder\n",
    "line, = ax.plot([], [], lw=2)\n",
    "time_text = ax.text(0.02, 0.95, '', transform=ax.transAxes)\n",
    "lines = []\n",
    "plt.xlabel(r\"$h_1$\")\n",
    "plt.ylabel(r\"$h_2$\")\n",
    "plt.title(\"Manifold in hidden nodes space\")\n",
    "for index in range(1):\n",
    "    lobj = ax.plot([],[],lw=2,color='black')[0]\n",
    "    lines.append(lobj)\n",
    "def init():\n",
    "    for line in lines:\n",
    "        line.set_data([],[])\n",
    "    time_text.set_text('')\n",
    "    return lines\n",
    "\n",
    "def animate(i):\n",
    "    time_text.set_text('age = %.1f min' %(sortAge[i] ))\n",
    "    for lnum,line in enumerate(lines):\n",
    "        line.set_data(h1s[i], h2s[i])\n",
    "\n",
    "    return lines\n",
    "\n",
    "anim = animation.FuncAnimation(fig, animate, init_func=init,\n",
    "                               frames=SortData.shape[0], interval=200, blit=True)\n",
    "\n",
    "#plt.legend(loc=\"upper right\")\n",
    "plt.show()\n",
    "Writer = animation.writers['ffmpeg']\n",
    "writer = Writer(fps=30, metadata=dict(artist='Me'), bitrate=1800)\n",
    "anim.save('movies/autoencoderManifoldtemp.mp4', writer=writer)"
   ]
  },
  {
   "cell_type": "code",
   "execution_count": null,
   "metadata": {},
   "outputs": [],
   "source": []
  }
 ],
 "metadata": {
  "kernelspec": {
   "display_name": "Python (bio)",
   "language": "python",
   "name": "bio"
  },
  "language_info": {
   "codemirror_mode": {
    "name": "ipython",
    "version": 3
   },
   "file_extension": ".py",
   "mimetype": "text/x-python",
   "name": "python",
   "nbconvert_exporter": "python",
   "pygments_lexer": "ipython3",
   "version": "3.6.5"
  }
 },
 "nbformat": 4,
 "nbformat_minor": 2
}
